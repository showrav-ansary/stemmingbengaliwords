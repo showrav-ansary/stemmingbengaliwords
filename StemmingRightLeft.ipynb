{
 "cells": [
  {
   "cell_type": "code",
   "execution_count": 20,
   "metadata": {},
   "outputs": [],
   "source": [
    "# Import all the dependencies\n",
    "import string\n",
    "from tqdm.auto import tqdm\n",
    "import json\n",
    "import os"
   ]
  },
  {
   "cell_type": "markdown",
   "source": [
    "We can verify whether a `StringB` is a valid suffix of `StringA` by implementing a logic like this :\n",
    "`StringA[len(StringA)-len(StringB):] == StringB`\n",
    "\n",
    "Which as same as leveraging the below algorithm:\n",
    "\n",
    "```Python\n",
    "def GetLCSLength(stringA, stringB, stringALength, stringBlength):\n",
    "    if (stringALength == 0 or stringBlength == 0):\n",
    "        return 0\n",
    "    if (stringA[stringALength-1] == stringB[stringBlength-1]):\n",
    "        return 1 + GetLCSLength(stringA, stringB, stringALength-1, stringBlength-1)\n",
    "    else:\n",
    "        return max(GetLCSLength(stringA, stringB, stringALength, stringBlength-1), GetLCSLength(stringA, stringB, stringALength-1, stringBlength))\n",
    "\n",
    "def IsSuffix(stringA, stringB,stringALength, stringBlength):\n",
    "    return True if (GetLCSLength(stringA, stringB, stringALength, stringBlength)== stringBlength) else False\n",
    "```\n"
   ],
   "metadata": {
    "collapsed": false,
    "pycharm": {
     "name": "#%% md\n"
    }
   }
  },
  {
   "cell_type": "code",
   "execution_count": 19,
   "metadata": {},
   "outputs": [
    {
     "data": {
      "text/plain": "HBox(children=(HTML(value=''), FloatProgress(value=0.0, max=65057.0), HTML(value='')))",
      "application/vnd.jupyter.widget-view+json": {
       "version_major": 2,
       "version_minor": 0,
       "model_id": "621e656e06754ff4bd0802bd50addd83"
      }
     },
     "metadata": {},
     "output_type": "display_data"
    },
    {
     "name": "stdout",
     "output_type": "stream",
     "text": [
      "\n"
     ]
    },
    {
     "data": {
      "text/plain": "HBox(children=(HTML(value=''), FloatProgress(value=0.0, max=60062.0), HTML(value='')))",
      "application/vnd.jupyter.widget-view+json": {
       "version_major": 2,
       "version_minor": 0,
       "model_id": "0e65e5c1c55849c48cfa4c68c9b099c2"
      }
     },
     "metadata": {},
     "output_type": "display_data"
    },
    {
     "name": "stdout",
     "output_type": "stream",
     "text": [
      "\n"
     ]
    }
   ],
   "source": [
    "# Set file location\n",
    "dir = os.path.dirname(os.getcwd())\n",
    "fileName = os.path.join(dir, 'bengaliai-stemmingbengaliwords','Datasets','bengaliWords.tsv')\n",
    "\n",
    "\n",
    "# Filtered dataset\n",
    "\n",
    "## Using a dictionary to avoid duplication entry and for O(c) access\n",
    "## This dictionary will hold the first iteration subsequences as the keys and the extensions as values\n",
    "firstIteration = {}\n",
    "\n",
    "\n",
    "# Noise cancellation\n",
    "# Remove all the non-bengali characters\n",
    "with open(fileName,\"r\") as rawFile:\n",
    "    lines = rawFile.readlines()\n",
    "    for line in tqdm(lines):\n",
    "        if line[0] != \"#\"and line[0] not in string.ascii_letters and line.strip() :\n",
    "            firstIteration[line.split()[0] ]= []\n",
    "\n",
    "# Append origin words to the trailing strings' list\n",
    "# Bruteforce approach is required because we are considering every word as an trailing subsequence\n",
    "# This is the 1st iteration\n",
    "for stringA in tqdm(firstIteration.keys()):\n",
    "    for stringB in firstIteration.keys():\n",
    "        if stringA != stringB and stringB[len(stringB)-len(stringA):] == stringA:\n",
    "            firstIteration[stringA].append(stringB[:len(stringB)-len(stringA)])\n",
    "\n"
   ]
  },
  {
   "cell_type": "code",
   "execution_count": 24,
   "metadata": {},
   "outputs": [
    {
     "data": {
      "text/plain": "HBox(children=(HTML(value=''), FloatProgress(value=0.0, max=6965.0), HTML(value='')))",
      "application/vnd.jupyter.widget-view+json": {
       "version_major": 2,
       "version_minor": 0,
       "model_id": "450a6110911347ae8a1446cbcc5faf46"
      }
     },
     "metadata": {},
     "output_type": "display_data"
    },
    {
     "name": "stdout",
     "output_type": "stream",
     "text": [
      "\n"
     ]
    }
   ],
   "source": [
    "## Don't stem for alphabets\n",
    "for key,value in tqdm(firstIteration.copy().items()):\n",
    "    if len(key) <= 2 or len(value) == 0:\n",
    "        firstIteration.pop(key)\n",
    "\n",
    "## save the output as json\n",
    "fileName = os.path.join(dir, 'bengaliai-stemmingbengaliwords','Output','firstIteration.json')\n",
    "with open(fileName, 'w') as jsonObject:\n",
    "    json.dump(firstIteration, jsonObject, ensure_ascii=False)"
   ]
  },
  {
   "cell_type": "code",
   "execution_count": 25,
   "metadata": {},
   "outputs": [
    {
     "data": {
      "text/plain": "HBox(children=(HTML(value=''), FloatProgress(value=0.0, max=6965.0), HTML(value='')))",
      "application/vnd.jupyter.widget-view+json": {
       "version_major": 2,
       "version_minor": 0,
       "model_id": "5f8bac0e0369451ca88d034817b917cc"
      }
     },
     "metadata": {},
     "output_type": "display_data"
    },
    {
     "name": "stdout",
     "output_type": "stream",
     "text": [
      "\n"
     ]
    }
   ],
   "source": [
    "#Inversing the dataset for O(c) access\n",
    "\n",
    "inversedfirstIteration = {}\n",
    "for key in tqdm(firstIteration.keys()):\n",
    "    for value in firstIteration[key]:\n",
    "        if value not in inversedfirstIteration:\n",
    "            inversedfirstIteration[value] = [key]\n",
    "        else:\n",
    "            inversedfirstIteration[value].append(key)\n",
    "\n",
    "fileName = os.path.join(dir, 'bengaliai-stemmingbengaliwords','Output','inversedfirstIteration.json')\n",
    "with open(fileName, 'w') as jsonObject:\n",
    "    json.dump(firstIteration, jsonObject, ensure_ascii=False)\n",
    "\n",
    "        "
   ]
  },
  {
   "cell_type": "code",
   "execution_count": null,
   "metadata": {},
   "outputs": [],
   "source": [
    "inversedfirstIteration"
   ]
  },
  {
   "cell_type": "code",
   "execution_count": 8,
   "metadata": {},
   "outputs": [
    {
     "data": {
      "text/plain": "3"
     },
     "execution_count": 8,
     "metadata": {},
     "output_type": "execute_result"
    }
   ],
   "source": []
  }
 ],
 "metadata": {
  "kernelspec": {
   "display_name": "Python 3",
   "language": "python",
   "name": "python3"
  },
  "language_info": {
   "codemirror_mode": {
    "name": "ipython",
    "version": 3
   },
   "file_extension": ".py",
   "mimetype": "text/x-python",
   "name": "python",
   "nbconvert_exporter": "python",
   "pygments_lexer": "ipython3",
   "version": "3.8.5"
  }
 },
 "nbformat": 4,
 "nbformat_minor": 4
}