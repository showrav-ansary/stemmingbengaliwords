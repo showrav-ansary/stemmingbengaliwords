{
 "cells": [
  {
   "cell_type": "code",
   "execution_count": 23,
   "metadata": {
    "pycharm": {
     "name": "#%%\n"
    }
   },
   "outputs": [],
   "source": [
    "# Import all the dependencies\n",
    "import string\n",
    "from tqdm.auto import tqdm\n",
    "import json\n",
    "import os"
   ]
  },
  {
   "cell_type": "code",
   "execution_count": 24,
   "metadata": {
    "pycharm": {
     "name": "#%%\n"
    }
   },
   "outputs": [],
   "source": [
    "# Set file locations to your datasets\n",
    "path = os.path.dirname(os.getcwd())\n",
    "fileName = os.path.join(path, 'stemmingbengaliwords','Datasets','smallSample.tsv')"
   ]
  },
  {
   "cell_type": "code",
   "execution_count": 25,
   "metadata": {
    "pycharm": {
     "name": "#%%\n"
    }
   },
   "outputs": [],
   "source": [
    "# Noise cancellation\n",
    "# Remove all the non-bengali characters\n",
    "def RemoveNoiseFromDictionary(fileName):\n",
    "    dictionary = {}\n",
    "    with open(fileName,\"r\") as rawFile:\n",
    "        lines = rawFile.readlines()\n",
    "        for line in tqdm(lines):\n",
    "            if line[0] != \"#\"and line[0] not in string.ascii_letters and line.strip() :\n",
    "                dictionary[line.split()[0] ]= []\n",
    "    return dictionary\n"
   ]
  },
  {
   "cell_type": "markdown",
   "metadata": {
    "pycharm": {
     "name": "#%% md\n"
    }
   },
   "source": [
    "We can verify whether a `StringB` is a valid suffix of `StringA` by implementing a logic like this :\n",
    "`StringA[len(StringA)-len(StringB):] == StringB`\n",
    "\n",
    "Which as same as leveraging the below algorithm:\n",
    "\n",
    "```Python\n",
    "def GetLCSLength(stringA, stringB, stringALength, stringBlength):\n",
    "    if (stringALength == 0 or stringBlength == 0):\n",
    "        return 0\n",
    "    if (stringA[stringALength-1] == stringB[stringBlength-1]):\n",
    "        return 1 + GetLCSLength(stringA, stringB, stringALength-1, stringBlength-1)\n",
    "    else:\n",
    "        return max(GetLCSLength(stringA, stringB, stringALength, stringBlength-1), GetLCSLength(stringA, stringB, stringALength-1, stringBlength))\n",
    "\n",
    "def IsSuffix(stringA, stringB,stringALength, stringBlength):\n",
    "    return True if (GetLCSLength(stringA, stringB, stringALength, stringBlength)== stringBlength) else False\n",
    "```\n"
   ]
  },
  {
   "cell_type": "code",
   "execution_count": 26,
   "metadata": {
    "pycharm": {
     "name": "#%%\n"
    }
   },
   "outputs": [],
   "source": [
    "# A function to generate iterations\n",
    "## Using a dictionary to avoid duplication entry and for O(c) access\n",
    "def GenerateIteration(dictionary):\n",
    "    iteration = dictionary\n",
    "    # Append origin words to the trailing strings' list\n",
    "    # Bruteforce approach is required because we are considering every word as an trailing subsequence\n",
    "    # This is the 1st iteration\n",
    "    for stringA in tqdm(iteration.keys()):\n",
    "        for stringB in iteration.keys():\n",
    "            if stringA != stringB and stringB[len(stringB)-len(stringA):] == stringA:\n",
    "                iteration[stringA].append(stringB[:len(stringB)-len(stringA)])\n",
    "    return iteration\n"
   ]
  },
  {
   "cell_type": "code",
   "execution_count": 28,
   "metadata": {
    "pycharm": {
     "name": "#%%\n"
    }
   },
   "outputs": [],
   "source": [
    "# Removes unnecessary entries\n",
    "def RemoveUnnecessaryEntries(dictionary):\n",
    "    ## Don't stem for alphabets\n",
    "    ## Don't keep empty sets for a key\n",
    "    for key,value in tqdm(dictionary.copy().items()):\n",
    "        if len(key) <= 2 or len(value) == 0:\n",
    "            dictionary.pop(key)\n",
    "\n",
    "# Generates JSON file for saving the output\n",
    "## Don't add file extension\n",
    "def GenerateJSON(dictionary, fileName):\n",
    "    ## save the output as json\n",
    "    fileName = os.path.join(path, 'stemmingbengaliwords','Output',fileName+'.json')\n",
    "    with open(fileName, 'w') as jsonObject:\n",
    "        json.dump(dictionary, jsonObject, ensure_ascii=False)\n",
    "\n",
    "# Generates the reverse of a dictionary\n",
    "def GenerateReversedDictionary(dictionary):\n",
    "    dictionaryReversed = {}\n",
    "    for key in tqdm(dictionary.keys()):\n",
    "        for value in dictionary[key]:\n",
    "            if value not in dictionaryReversed:\n",
    "                dictionaryReversed[value] = [key]\n",
    "            else:\n",
    "                dictionaryReversed[value].append(key)\n",
    "    return dictionaryReversed\n",
    "\n",
    "# Generates the origin word - derived word dictionary\n",
    "def GenerateWordMap(dictionary):\n",
    "    wordMap = {}\n",
    "    for key,value in tqdm(dictionary.items()):\n",
    "        words = []\n",
    "        for x in value:\n",
    "            derivedWord = key + x;\n",
    "            words.append(derivedWord)\n",
    "        for word in words:\n",
    "            wordMap[key].append(word)\n",
    "    return wordMap"
   ]
  },
  {
   "cell_type": "markdown",
   "metadata": {},
   "source": [
    "What will be doing in out 1st iteration is simply taking out the trailing strings. It should look something like this :\n",
    "\n",
    "|Key (Trailing Substring)  |Value (Origin Words)   |\n",
    "|:---|:---|\n",
    "|কলা   | {চারু,কারু,চারুকারু}  |\n",
    "|অর্ডার  | {টপ, ডিজ, ডিস, মিডল}  |\n"
   ]
  },
  {
   "cell_type": "code",
   "execution_count": 29,
   "metadata": {
    "pycharm": {
     "name": "#%%\n"
    }
   },
   "outputs": [
    {
     "data": {
      "application/vnd.jupyter.widget-view+json": {
       "model_id": "c5ae85318b874451827abe2d55d2c00e",
       "version_major": 2,
       "version_minor": 0
      },
      "text/plain": [
       "HBox(children=(HTML(value=''), FloatProgress(value=0.0, max=5.0), HTML(value='')))"
      ]
     },
     "metadata": {},
     "output_type": "display_data"
    },
    {
     "name": "stdout",
     "output_type": "stream",
     "text": [
      "\n"
     ]
    },
    {
     "data": {
      "application/vnd.jupyter.widget-view+json": {
       "model_id": "5ebe283861f441feb5a54b839c5cebc4",
       "version_major": 2,
       "version_minor": 0
      },
      "text/plain": [
       "HBox(children=(HTML(value=''), FloatProgress(value=0.0, max=4.0), HTML(value='')))"
      ]
     },
     "metadata": {},
     "output_type": "display_data"
    },
    {
     "name": "stdout",
     "output_type": "stream",
     "text": [
      "\n"
     ]
    },
    {
     "data": {
      "application/vnd.jupyter.widget-view+json": {
       "model_id": "01e0f8f61fbd4e92a0abd2b5d57c5a4e",
       "version_major": 2,
       "version_minor": 0
      },
      "text/plain": [
       "HBox(children=(HTML(value=''), FloatProgress(value=0.0, max=4.0), HTML(value='')))"
      ]
     },
     "metadata": {},
     "output_type": "display_data"
    },
    {
     "name": "stdout",
     "output_type": "stream",
     "text": [
      "\n"
     ]
    }
   ],
   "source": [
    "\n",
    "## This dictionary will hold the first iteration subsequences as the keys and the extensions as values\n",
    "#\n",
    "cleanData = RemoveNoiseFromDictionary(fileName)\n",
    "firstIteration = GenerateIteration(cleanData)\n",
    "firstIteration = RemoveUnnecessaryEntries(firstIteration)"
   ]
  },
  {
   "cell_type": "code",
   "execution_count": 30,
   "metadata": {
    "pycharm": {
     "name": "#%%\n"
    }
   },
   "outputs": [
    {
     "data": {
      "text/plain": [
       "{'কলা': ['চারু', 'কারু', 'চারুকারু'], 'কারুকলা': ['চারু']}"
      ]
     },
     "execution_count": 30,
     "metadata": {},
     "output_type": "execute_result"
    }
   ],
   "source": [
    "cleanData"
   ]
  },
  {
   "cell_type": "code",
   "execution_count": 31,
   "metadata": {
    "pycharm": {
     "name": "#%%\n"
    }
   },
   "outputs": [],
   "source": [
    "firstIteration"
   ]
  },
  {
   "cell_type": "code",
   "execution_count": 20,
   "metadata": {
    "pycharm": {
     "name": "#%%\n"
    }
   },
   "outputs": [
    {
     "data": {
      "application/vnd.jupyter.widget-view+json": {
       "model_id": "b6dd28f0917549b4a48c5d3867880cef",
       "version_major": 2,
       "version_minor": 0
      },
      "text/plain": [
       "HBox(children=(HTML(value=''), FloatProgress(value=0.0, max=4.0), HTML(value='')))"
      ]
     },
     "metadata": {},
     "output_type": "display_data"
    },
    {
     "name": "stdout",
     "output_type": "stream",
     "text": [
      "\n"
     ]
    }
   ],
   "source": [
    "\n",
    "firstIteration = RemoveUnnecessaryEntries(firstIteration)\n",
    "GenerateJSON(firstIteration, \"firstIteration\")\n",
    "firstIteration"
   ]
  },
  {
   "cell_type": "code",
   "execution_count": 21,
   "metadata": {
    "pycharm": {
     "name": "#%%\n"
    }
   },
   "outputs": [],
   "source": [
    "firstIteration"
   ]
  },
  {
   "cell_type": "code",
   "execution_count": 22,
   "metadata": {},
   "outputs": [
    {
     "ename": "AttributeError",
     "evalue": "'NoneType' object has no attribute 'keys'",
     "output_type": "error",
     "traceback": [
      "\u001b[0;31m---------------------------------------------------------------------------\u001b[0m",
      "\u001b[0;31mAttributeError\u001b[0m                            Traceback (most recent call last)",
      "\u001b[0;32m<ipython-input-22-054691e68cd5>\u001b[0m in \u001b[0;36m<module>\u001b[0;34m\u001b[0m\n\u001b[1;32m      1\u001b[0m \u001b[0;31m# Now let us construct the word map from first iteration\u001b[0m\u001b[0;34m\u001b[0m\u001b[0;34m\u001b[0m\u001b[0;34m\u001b[0m\u001b[0m\n\u001b[0;32m----> 2\u001b[0;31m \u001b[0mreversedFirstIteration\u001b[0m \u001b[0;34m=\u001b[0m \u001b[0mGenerateReversedDictionary\u001b[0m\u001b[0;34m(\u001b[0m\u001b[0mfirstIteration\u001b[0m\u001b[0;34m)\u001b[0m\u001b[0;34m\u001b[0m\u001b[0;34m\u001b[0m\u001b[0m\n\u001b[0m\u001b[1;32m      3\u001b[0m \u001b[0mGenerateJSON\u001b[0m\u001b[0;34m(\u001b[0m\u001b[0mreversedFirstIteration\u001b[0m\u001b[0;34m,\u001b[0m\u001b[0;34m'reversedFirstIteration'\u001b[0m\u001b[0;34m)\u001b[0m\u001b[0;34m\u001b[0m\u001b[0;34m\u001b[0m\u001b[0m\n\u001b[1;32m      4\u001b[0m \u001b[0mwordsMap\u001b[0m \u001b[0;34m=\u001b[0m \u001b[0mGenerateWordMap\u001b[0m\u001b[0;34m(\u001b[0m\u001b[0mreversedFirstIteration\u001b[0m\u001b[0;34m)\u001b[0m\u001b[0;34m\u001b[0m\u001b[0;34m\u001b[0m\u001b[0m\n\u001b[1;32m      5\u001b[0m \u001b[0mwordsMap\u001b[0m\u001b[0;34m\u001b[0m\u001b[0;34m\u001b[0m\u001b[0m\n",
      "\u001b[0;32m<ipython-input-16-5cbc79303635>\u001b[0m in \u001b[0;36mGenerateReversedDictionary\u001b[0;34m(dictionary)\u001b[0m\n\u001b[1;32m     18\u001b[0m \u001b[0;32mdef\u001b[0m \u001b[0mGenerateReversedDictionary\u001b[0m\u001b[0;34m(\u001b[0m\u001b[0mdictionary\u001b[0m\u001b[0;34m)\u001b[0m\u001b[0;34m:\u001b[0m\u001b[0;34m\u001b[0m\u001b[0;34m\u001b[0m\u001b[0m\n\u001b[1;32m     19\u001b[0m     \u001b[0mdictionaryReversed\u001b[0m \u001b[0;34m=\u001b[0m \u001b[0;34m{\u001b[0m\u001b[0;34m}\u001b[0m\u001b[0;34m\u001b[0m\u001b[0;34m\u001b[0m\u001b[0m\n\u001b[0;32m---> 20\u001b[0;31m     \u001b[0;32mfor\u001b[0m \u001b[0mkey\u001b[0m \u001b[0;32min\u001b[0m \u001b[0mtqdm\u001b[0m\u001b[0;34m(\u001b[0m\u001b[0mdictionary\u001b[0m\u001b[0;34m.\u001b[0m\u001b[0mkeys\u001b[0m\u001b[0;34m(\u001b[0m\u001b[0;34m)\u001b[0m\u001b[0;34m)\u001b[0m\u001b[0;34m:\u001b[0m\u001b[0;34m\u001b[0m\u001b[0;34m\u001b[0m\u001b[0m\n\u001b[0m\u001b[1;32m     21\u001b[0m         \u001b[0;32mfor\u001b[0m \u001b[0mvalue\u001b[0m \u001b[0;32min\u001b[0m \u001b[0mdictionary\u001b[0m\u001b[0;34m[\u001b[0m\u001b[0mkey\u001b[0m\u001b[0;34m]\u001b[0m\u001b[0;34m:\u001b[0m\u001b[0;34m\u001b[0m\u001b[0;34m\u001b[0m\u001b[0m\n\u001b[1;32m     22\u001b[0m             \u001b[0;32mif\u001b[0m \u001b[0mvalue\u001b[0m \u001b[0;32mnot\u001b[0m \u001b[0;32min\u001b[0m \u001b[0mdictionaryReversed\u001b[0m\u001b[0;34m:\u001b[0m\u001b[0;34m\u001b[0m\u001b[0;34m\u001b[0m\u001b[0m\n",
      "\u001b[0;31mAttributeError\u001b[0m: 'NoneType' object has no attribute 'keys'"
     ]
    }
   ],
   "source": [
    "# Now let us construct the word map from first iteration\n",
    "reversedFirstIteration = GenerateReversedDictionary(firstIteration)\n",
    "GenerateJSON(reversedFirstIteration,'reversedFirstIteration')\n",
    "wordsMap = GenerateWordMap(reversedFirstIteration)\n",
    "wordsMap"
   ]
  },
  {
   "cell_type": "code",
   "execution_count": null,
   "metadata": {
    "pycharm": {
     "name": "#%%\n"
    }
   },
   "outputs": [],
   "source": []
  },
  {
   "cell_type": "code",
   "execution_count": null,
   "metadata": {
    "pycharm": {
     "name": "#%%\n"
    }
   },
   "outputs": [],
   "source": []
  },
  {
   "cell_type": "code",
   "execution_count": null,
   "metadata": {},
   "outputs": [],
   "source": []
  }
 ],
 "metadata": {
  "kernelspec": {
   "display_name": "Python 3",
   "language": "python",
   "name": "python3"
  },
  "language_info": {
   "codemirror_mode": {
    "name": "ipython",
    "version": 3
   },
   "file_extension": ".py",
   "mimetype": "text/x-python",
   "name": "python",
   "nbconvert_exporter": "python",
   "pygments_lexer": "ipython3",
   "version": "3.8.5"
  }
 },
 "nbformat": 4,
 "nbformat_minor": 4
}
